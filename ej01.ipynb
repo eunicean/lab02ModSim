{
 "cells": [
  {
   "cell_type": "code",
   "execution_count": 25,
   "metadata": {},
   "outputs": [],
   "source": [
    "import numpy as np\n",
    "from numpy import cos, sin, exp, pi"
   ]
  },
  {
   "cell_type": "code",
   "execution_count": 26,
   "metadata": {},
   "outputs": [],
   "source": [
    "#funcion para metodo de newtow multidimensionas\n",
    "def newton_multidimensional(F, J, x0_list, tol, maxIter):\n",
    "    solutions = []\n",
    "    \n",
    "    for x0 in x0_list:\n",
    "        x = x0\n",
    "        iterates = [x0]\n",
    "        \n",
    "        for i in range(maxIter):\n",
    "            Fx = F(x)\n",
    "            Jx = J(x)\n",
    "            \n",
    "            delta_x = np.linalg.solve(Jx, -Fx)\n",
    "            x = x + delta_x\n",
    "            iterates.append(x)\n",
    "            \n",
    "            if np.linalg.norm(delta_x) < tol:\n",
    "                break\n",
    "        \n",
    "        solutions.append((iterates, x))\n",
    "    \n",
    "    return solutions"
   ]
  },
  {
   "cell_type": "code",
   "execution_count": 49,
   "metadata": {},
   "outputs": [],
   "source": [
    "def F(x):\n",
    "    return np.array([\n",
    "        3*x[0] - cos(x[1]*x[2]) - 0.5,\n",
    "        x[0]**2 - 81*(x[1] + 0.1)**2 + sin(x[2]) + 1.06,\n",
    "        exp(x[0]*x[1]) + 20*x[2] + (10*pi - 3)/3\n",
    "    ])\n",
    "\n",
    "def J(x):\n",
    "    from numpy import cos, sin, exp\n",
    "    return np.array([\n",
    "        [3, x[2]*sin(x[1]*x[2]), x[1]*sin(x[1]*x[2])],\n",
    "        [2*x[0], -162*(x[1] + 0.1), cos(x[2])],\n",
    "        [x[1]*exp(x[0]*x[1]), x[0]*exp(x[0]*x[1]), 20]\n",
    "    ])\n"
   ]
  },
  {
   "cell_type": "code",
   "execution_count": 52,
   "metadata": {},
   "outputs": [],
   "source": [
    "#ej02 - i\n",
    "\n",
    "def F(x):\n",
    "    return np.array([\n",
    "        3*x[0]**2 - x[1]**2,\n",
    "        3*x[0]*x[1]**2 - x[0]**3 - 1\n",
    "    ])\n",
    "\n",
    "def J(x):\n",
    "    return np.array([\n",
    "        [6*x[0], -2*x[1]],\n",
    "        [3*x[1]**2 - 3*x[0]**2, 6*x[0]*x[1]]\n",
    "    ])\n"
   ]
  },
  {
   "cell_type": "code",
   "execution_count": 55,
   "metadata": {},
   "outputs": [],
   "source": [
    "#ej02 - ii\n",
    "def F(x):\n",
    "    return np.array([\n",
    "        12*x[0] - 3*x[1]**2 - 4*x[2] - 7.17,\n",
    "        x[0] + 10*x[1] - x[2] - 11.54,\n",
    "        x[1]**3 - 7*x[2]**3 - 7.631\n",
    "    ])\n",
    "\n",
    "def J(x):\n",
    "    return np.array([\n",
    "        [12, -6*x[1], -4],\n",
    "        [1, 10, -1],\n",
    "        [0, 3*x[1]**2, -21*x[2]**2]\n",
    "    ])"
   ]
  },
  {
   "cell_type": "code",
   "execution_count": 50,
   "metadata": {},
   "outputs": [],
   "source": [
    "#ej01 del lab02\n",
    "x0_list = [np.array([0.1, 0.1, 0.1])]"
   ]
  },
  {
   "cell_type": "code",
   "execution_count": 53,
   "metadata": {},
   "outputs": [],
   "source": [
    "#ej02 del lab02\n",
    "# Para mostrar más de una sola solución\n",
    "# i\n",
    "x0_list = [\n",
    "    np.array([1.0, 1.0]),\n",
    "    np.array([1.0, -1.0]),\n",
    "    np.array([-1.0, 1.0]),\n",
    "    np.array([-1.0, -1.0]),\n",
    "]"
   ]
  },
  {
   "cell_type": "code",
   "execution_count": 56,
   "metadata": {},
   "outputs": [],
   "source": [
    "#ii\n",
    "x0_list = [\n",
    "    np.array([0.1, 0.1, 0.1]),\n",
    "    np.array([1.0, 1.0, 1.0]),\n",
    "    np.array([-0.5, 0.5, -0.5])\n",
    "]"
   ]
  },
  {
   "cell_type": "code",
   "execution_count": 57,
   "metadata": {},
   "outputs": [
    {
     "name": "stdout",
     "output_type": "stream",
     "text": [
      "Solución 1:\n",
      "Iteraciones:\n",
      "Iteración 0: [0.1 0.1 0.1]\n",
      "Iteración 1: [-11.62850833  -1.33024795 -36.4709878 ]\n",
      "Iteración 2: [ -7.60586337  -0.51683314 -24.31419474]\n",
      "Iteración 3: [ -4.87800431   0.02079501 -16.21005425]\n",
      "Iteración 4: [ -3.00142159   0.37333359 -10.80808566]\n",
      "Iteración 5: [-1.72706356  0.60586232 -7.20844034]\n",
      "Iteración 6: [-0.86824824  0.7595987  -4.81226119]\n",
      "Iteración 7: [-0.29389233  0.86112893 -3.22260299]\n",
      "Iteración 8: [ 0.08488139  0.92753316 -2.179787  ]\n",
      "Iteración 9: [ 0.32514556  0.96942664 -1.52058802]\n",
      "Iteración 10: [ 0.4602389   0.99290028 -1.15075828]\n",
      "Iteración 11: [ 0.51340659  1.00211944 -1.005399  ]\n",
      "Iteración 12: [ 0.52192108  1.00359427 -0.98213624]\n",
      "Iteración 13: [ 0.52212806  1.00363011 -0.98157087]\n",
      "Iteración 14: [ 0.52212818  1.00363013 -0.98157054]\n",
      "Iteración 15: [ 0.52212818  1.00363013 -0.98157054]\n",
      "Solución aproximada:\n",
      "[ 0.52212818  1.00363013 -0.98157054]\n",
      "\n",
      "Solución 2:\n",
      "Iteraciones:\n",
      "Iteración 0: [1. 1. 1.]\n",
      "Iteración 1: [1.01322807 1.08903966 0.36362471]\n",
      "Iteración 2: [ 0.05286112  0.9234257  -2.25288191]\n",
      "Iteración 3: [ 0.30891493  0.96659923 -1.56509279]\n",
      "Iteración 4: [ 0.45216978  0.99150004 -1.17282987]\n",
      "Iteración 5: [ 0.51125729  1.00174705 -1.01127223]\n",
      "Iteración 6: [ 0.52180892  1.00357485 -0.9824426 ]\n",
      "Iteración 7: [ 0.52212789  1.00363008 -0.98157132]\n",
      "Iteración 8: [ 0.52212818  1.00363013 -0.98157054]\n",
      "Iteración 9: [ 0.52212818  1.00363013 -0.98157054]\n",
      "Solución aproximada:\n",
      "[ 0.52212818  1.00363013 -0.98157054]\n",
      "\n",
      "Solución 3:\n",
      "Iteraciones:\n",
      "Iteración 0: [-0.5  0.5 -0.5]\n",
      "Iteración 1: [ 0.21020242  0.96329347 -1.69686284]\n",
      "Iteración 2: [ 0.42711088  0.98713251 -1.24156406]\n",
      "Iteración 3: [ 0.5034783   1.000399   -1.03253172]\n",
      "Iteración 4: [ 0.52121426  1.00347187 -0.984067  ]\n",
      "Iteración 5: [ 0.52212584  1.00362972 -0.98157693]\n",
      "Iteración 6: [ 0.52212818  1.00363013 -0.98157054]\n",
      "Iteración 7: [ 0.52212818  1.00363013 -0.98157054]\n",
      "Solución aproximada:\n",
      "[ 0.52212818  1.00363013 -0.98157054]\n",
      "\n"
     ]
    }
   ],
   "source": [
    "tol = 1e-7 #tol\n",
    "maxIter = 100 #maximo de iteraciones\n",
    "\n",
    "solutions = newton_multidimensional(F, J, x0_list, tol, maxIter)\n",
    "\n",
    "for i, (iterates, solution) in enumerate(solutions):\n",
    "    print(f\"Solución {i+1}:\")\n",
    "    print(\"Iteraciones:\")\n",
    "    for j, x in enumerate(iterates):\n",
    "        print(f\"Iteración {j}: {x}\")\n",
    "    print(\"Solución aproximada:\")\n",
    "    print(solution)\n",
    "    print()\n",
    "\n",
    "\n"
   ]
  }
 ],
 "metadata": {
  "kernelspec": {
   "display_name": "Python 3",
   "language": "python",
   "name": "python3"
  },
  "language_info": {
   "codemirror_mode": {
    "name": "ipython",
    "version": 3
   },
   "file_extension": ".py",
   "mimetype": "text/x-python",
   "name": "python",
   "nbconvert_exporter": "python",
   "pygments_lexer": "ipython3",
   "version": "3.12.4"
  }
 },
 "nbformat": 4,
 "nbformat_minor": 2
}
